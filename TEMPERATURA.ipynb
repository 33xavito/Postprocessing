{
 "cells": [
  {
   "cell_type": "code",
   "execution_count": 24,
   "id": "00822c13-0a99-4252-930e-0ed9e7591917",
   "metadata": {},
   "outputs": [],
   "source": [
    "import xarray as xr\n",
    "import os, sys\n",
    "import torch\n",
    "import numpy as np\n",
    "import matplotlib.pyplot as plt\n",
    "import matplotlib\n",
    "from xskillscore import crps_ensemble, crps_gaussian\n",
    "module_path = '/home/jupyter-aaron/Postprocessing/PP_EUPP'\n",
    "if module_path not in sys.path:\n",
    "    sys.path.append(module_path)\n",
    "from Transformer import StackedTransformer"
   ]
  },
  {
   "cell_type": "code",
   "execution_count": 25,
   "id": "905a88ce-6010-4057-a1c5-26323f1fba18",
   "metadata": {},
   "outputs": [],
   "source": [
    "def fair_crps_ensemble(observations, forecasts, axis=0):\n",
    "\n",
    "    # Convert inputs to numpy arrays if they're not already\n",
    "    forecasts = np.asarray(forecasts)\n",
    "    observations = np.asarray(observations)\n",
    "    \n",
    "    if axis != 1:\n",
    "        forecasts = np.moveaxis(forecasts, axis, 1)\n",
    "    \n",
    "    # Get number of ensemble members\n",
    "    m = forecasts.shape[1]\n",
    "    \n",
    "    # Calculate dxy: sum of absolute differences between forecasts and observations\n",
    "    # Add a dimension to observations to allow broadcasting\n",
    "    observations_expanded = np.expand_dims(observations, axis=1)\n",
    "    dxy = np.sum(np.abs(forecasts - observations_expanded), axis=1)\n",
    "    \n",
    "    # Calculate dxx: sum of absolute differences between all pairs of ensemble members\n",
    "    # Add dimensions to enable broadcasting for pairwise differences\n",
    "    forecast_i = np.expand_dims(forecasts, axis=2)  # [batch, ens, 1, ...]\n",
    "    forecast_j = np.expand_dims(forecasts, axis=1)  # [batch, 1, ens, ...]\n",
    "    dxx = np.sum(np.abs(forecast_i - forecast_j), axis=(1, 2))\n",
    "    \n",
    "    # Calculate CRPS using the kernel approximation formula\n",
    "    crps = dxy / m - dxx / (m * (m - 1) * 2)\n",
    "    \n",
    "    return crps"
   ]
  },
  {
   "cell_type": "code",
   "execution_count": 26,
   "id": "7778cd75-bd87-4be2-83ae-d6fc6df90c91",
   "metadata": {},
   "outputs": [],
   "source": [
    "test_rfcs=xr.open_dataset(\"/home/jupyter-aaron/Postprocessing/PP_EUPP/data/TEST/test_reforecast.nc\")\n",
    "obs=xr.open_dataset(\"/home/jupyter-aaron/Postprocessing/PP_EUPP/data/TEST/test_observation.nc\")\n",
    "\n",
    "test_rfcs=test_rfcs\n",
    "obs=obs"
   ]
  },
  {
   "cell_type": "code",
   "execution_count": 27,
   "id": "d3ae43eb-5f23-4a21-b7c5-e087a543aafa",
   "metadata": {},
   "outputs": [],
   "source": [
    "target='t2m'  \n",
    "obs=obs[target]\n",
    "test_rfcs=test_rfcs.drop_vars(['z','tcc', 'sd','u100', 'w100', 'u', 'w700','v100', 'v'])"
   ]
  },
  {
   "cell_type": "code",
   "execution_count": 28,
   "id": "b116b618-fc8f-49b5-819d-e57192863ae2",
   "metadata": {},
   "outputs": [],
   "source": [
    "#normalizing\n",
    "min_max_values={\"t2m\":(235, 304), \"z\": (48200, 58000), \"t\":(240, 299), \"u10\": (-13., 11.),\"v10\": (-30,35), \"tcc\": (0., 1.0),\"sd\":(0,8),\"mx2t6\":(230,320),\"mn2t6\":(225,315),\"v\":(-50,55), \"w100\":(0,50),\"w10\":(0,30), \"u100\": (-35,45), \"u\": (-45,60),\"v100\":(-40,45), \"w700\": (0,60), \"p10fg6\": (0,60), \"oro\":(-400,2800)}\n",
    "# Function to normalize using vectorized operations\n",
    "def minmax_normalize(ds, min_max_values):\n",
    "    for var in ds.data_vars:\n",
    "        if var in min_max_values:\n",
    "            min_val, max_val = min_max_values[var]\n",
    "            ds[var] = (ds[var] - min_val) / (max_val - min_val)\n",
    "    return ds"
   ]
  },
  {
   "cell_type": "code",
   "execution_count": 29,
   "id": "a87af0b2-da94-4155-b106-039110c4e7ad",
   "metadata": {},
   "outputs": [],
   "source": [
    "def z_normalize(ds):\n",
    "    for var in ds.data_vars:\n",
    "        ds[var] = ds[var].copy()  # Ensure the variable is writable\n",
    "        \n",
    "        for t in range(len(ds[\"time\"])):  # Loop over time dimension\n",
    "            mean = ds[var].isel(time=t).mean()\n",
    "            std = ds[var].isel(time=t).std()\n",
    "            ds[var].loc[dict(time=ds[\"time\"][t])] = (ds[var].isel(time=t) - mean) / std\n",
    "\n",
    "    return ds"
   ]
  },
  {
   "cell_type": "code",
   "execution_count": 30,
   "id": "bc5ed8ac-8f5e-4ba9-930e-de6853d46e7e",
   "metadata": {},
   "outputs": [],
   "source": [
    "#dummy_norm=minmax_normalize(dummy,min_max_values)\n",
    "#fcs_norm=dummy_norm\n",
    "fcs_10 = test_rfcs\n",
    "dummy=test_rfcs"
   ]
  },
  {
   "cell_type": "code",
   "execution_count": 31,
   "id": "a8d65bdc-33a6-48c6-99d7-79e2530fa45a",
   "metadata": {},
   "outputs": [],
   "source": [
    "#reload_ext autoreload\n",
    "model =  StackedTransformer(num_blocks=4, n_data_shape=(20, 33,32, 8), n_heads=8,mlp_mult=4,projection_channels=64)"
   ]
  },
  {
   "cell_type": "code",
   "execution_count": 32,
   "id": "663e5ba2-1170-4fb4-ad8c-d5786d827152",
   "metadata": {},
   "outputs": [
    {
     "name": "stdout",
     "output_type": "stream",
     "text": [
      "Total number of parameters:  1551521\n"
     ]
    }
   ],
   "source": [
    "#this is where the last run is stored \n",
    "checkpoint_path = f'/home/jupyter-xavi/results/Transformerweights/t2m/epochs15predictors8CRPSlambda0.02k3.3.pth'#epochs15predictors14CRPSlambda0.02k3.3.pth\n",
    "# Load the checkpoint\n",
    "\n",
    "checkpoint = torch.load(checkpoint_path, weights_only=False)\n",
    "model_state_dict = checkpoint['model']\n",
    "new_state_dict = {k.replace(\"module.\", \"\"): v for k, v in model_state_dict.items()}\n",
    "model.load_state_dict(new_state_dict)\n",
    "total_params = sum(p.numel() for p in model.parameters())\n",
    "print(\"Total number of parameters: \", total_params)"
   ]
  },
  {
   "cell_type": "code",
   "execution_count": 33,
   "id": "f46f54dd-920d-4839-b767-9c4a04fa3c20",
   "metadata": {},
   "outputs": [
    {
     "name": "stdout",
     "output_type": "stream",
     "text": [
      "torch.Size([209, 11, 20, 32, 33, 8])\n"
     ]
    }
   ],
   "source": [
    "#turn the normalized reforecasts into a tensor\n",
    "#fcs_norm_whole= fcs_norm.to_array(dim='variable')\n",
    "fcs_norm_whole= test_rfcs.to_array(dim='variable')\n",
    "rearranged_10= fcs_norm_whole.transpose('time', 'number','step','latitude', 'longitude' , 'variable')\n",
    "fcs_whole_tensor=torch.tensor(rearranged_10.values)\n",
    "print(fcs_whole_tensor.shape) "
   ]
  },
  {
   "cell_type": "code",
   "execution_count": 34,
   "id": "387ca017-322f-41a9-8658-545960442773",
   "metadata": {},
   "outputs": [
    {
     "name": "stdout",
     "output_type": "stream",
     "text": [
      "torch.Size([209, 11, 20, 32, 33, 8])\n"
     ]
    }
   ],
   "source": [
    "#same for unnormalized data, because I need them for the rescaling \n",
    "fcs_array_10 =fcs_10.to_array(dim='variable')\n",
    "fcs_rearranged_10= fcs_array_10.transpose('time', 'number','step', 'latitude', 'longitude', 'variable')\n",
    "fcs_whole_notnorm_tensor=torch.tensor(fcs_rearranged_10.values)\n",
    "print(fcs_whole_notnorm_tensor.shape)"
   ]
  },
  {
   "cell_type": "code",
   "execution_count": 35,
   "id": "54b8122e-7365-4087-af68-5ec8cad5b5b0",
   "metadata": {},
   "outputs": [
    {
     "name": "stdout",
     "output_type": "stream",
     "text": [
      "['t2m', 't', 'u10', 'v10', 'mx2t6', 'mn2t6', 'w10', 'p10fg6']\n"
     ]
    }
   ],
   "source": [
    "print(list(test_rfcs.data_vars))"
   ]
  },
  {
   "cell_type": "code",
   "execution_count": 36,
   "id": "0e6ab738-c34d-49de-be84-415f19453bfa",
   "metadata": {},
   "outputs": [],
   "source": [
    "import torch\n",
    "postpro_10_whole = torch.empty((209,11,20,32,33,8)) #(209,11,20,32,33,14)\n",
    "\n",
    "#Apply model in chunks of 10\n",
    "with torch.no_grad():\n",
    "    for i in range(0, 209, 2):\n",
    "        # Get the end index for this chunk\n",
    "        end = min(i + 2, 209)  # Ensure we don't go out of bounds\n",
    "\n",
    "        # Apply the model to the chunk and store in the corresponding location in postpro_10_whole\n",
    "        postpro_10_whole[i:end] = model(fcs_whole_tensor[i:end])"
   ]
  },
  {
   "cell_type": "code",
   "execution_count": 37,
   "id": "51ba00b5-f540-4822-897e-bb3dfbaa88fc",
   "metadata": {},
   "outputs": [],
   "source": [
    "#MBM_all=np.load(\"/home/jupyter-xavi/ClassicalMBM/t2m/MBM_t2m_all.npy\")\n",
    "#MBM_one=np.load(\"/home/jupyter-xavi/ClassicalMBM/t2m/MBM_t2m_one.npy\")\n",
    "#postpro_1_whole = torch.load(\"postpro_1_whole_t2m_all.pt\")\n",
    "# = torch.load(\"postpro_10_whole_t2m_all.pt\")\n",
    "ensemble_all=postpro_10_whole[...,0]\n",
    "#ensemble_one = postpro_1_whole[...,0]\n",
    "values_tar = fcs_whole_notnorm_tensor[:,:,:,:,:,0] #torch.Size([26, 11, 32, 33])\n",
    "scale_std, scale_mean= torch.std_mean(values_tar, dim=1, unbiased=True)\n",
    "scaled_ensemble_all=(ensemble_all * scale_std.unsqueeze(1) + scale_mean.unsqueeze(1)).permute(1, 0, 2, 3, 4)\n",
    "#scaled_ensemble_one=(ensemble_one * scale_std.unsqueeze(1) + scale_mean.unsqueeze(1)).permute(1, 0, 2, 3, 4)"
   ]
  },
  {
   "cell_type": "code",
   "execution_count": 38,
   "id": "c2a5707f-6a6b-4d44-9c5a-7c01522838a4",
   "metadata": {},
   "outputs": [],
   "source": [
    "# Define coordinates with member first\n",
    "\n",
    "coords_forecast = {\n",
    "    'member': test_rfcs['number'].rename({'number': 'member'}),\n",
    "    'time': obs['time'],\n",
    "    'step': obs['step'],\n",
    "    'latitude': obs['latitude'],\n",
    "    'longitude': obs['longitude'],\n",
    "}    \n",
    "\n",
    "\n",
    "# Define dimensions with member first\n",
    "dims_forecast = ('member','time','step','latitude', 'longitude')\n",
    "\n",
    "# Convert numpy arrays to xarray DataArray with the specified order\n",
    "#MBM_all=xr.DataArray(np.transpose(MBM_all,(1,0,2,3,4)), coords=coords_forecast, dims=dims_forecast)\n",
    "#MBM_one=xr.DataArray(np.transpose(MBM_one,(1,0,2,3,4)), coords=coords_forecast, dims=dims_forecast)\n",
    "full_ensemble_all = xr.DataArray(scaled_ensemble_all, coords=coords_forecast, dims=dims_forecast)\n",
    "#full_ensemble_one= xr.DataArray(scaled_ensemble_one, coords=coords_forecast, dims=dims_forecast)\n",
    "# Compute mean and std across the member dimension\n",
    "mean_all = full_ensemble_all.mean(dim='member')\n",
    "std_all = full_ensemble_all.std(dim='member')\n",
    "\n",
    "#mean_one = full_ensemble_one.mean(dim='member')\n",
    "#std_one = full_ensemble_one.std(dim='member')\n",
    "\n",
    "# Adjust raw_fcs to have 'member' first\n",
    "raw_fcs = test_rfcs.rename({'number': 'member'})\n",
    "raw_fcs = raw_fcs.transpose('member', 'time', 'step','latitude', 'longitude' )#'latitude', 'longitude'\n",
    "raw_mean=raw_fcs.mean(dim='member')\n",
    "raw_std=raw_fcs.std(dim='member')"
   ]
  },
  {
   "cell_type": "code",
   "execution_count": 39,
   "id": "09334df1-4427-46c0-8912-f0375bb56c9e",
   "metadata": {},
   "outputs": [],
   "source": [
    "ensemble_all=postpro_10_whole[...,0]\n",
    "tf_mu=torch.mean(ensemble_all,axis=1)\n",
    "tf_std=torch.std(ensemble_all,axis=1)\n",
    "tf_mu=tf_mu*scale_std + scale_mean\n",
    "tf_std=torch.exp(tf_std)*scale_std\n",
    "#MBM_mu=np.mean(MBM_all,axis=1)\n",
    "#MBM_std=np.std(MBM_all,axis=1)"
   ]
  },
  {
   "cell_type": "code",
   "execution_count": 40,
   "id": "7fbb6ec7-7c55-469d-a9a4-a0034025c473",
   "metadata": {},
   "outputs": [],
   "source": [
    "coords_forecast = {\n",
    "    'time': obs['time'],  # time dimension\n",
    "    'step':obs['step'],\n",
    "    'latitude': obs['latitude'],  # Latitude dimension\n",
    "    'longitude':obs['longitude'],  # Longitude dimension\n",
    "}\n",
    "dims_forecast = ('time','step','latitude', 'longitude' )  # Dimensions in order\n"
   ]
  },
  {
   "cell_type": "code",
   "execution_count": 41,
   "id": "48d537d6-00cb-4abf-ab2b-1e972ac02659",
   "metadata": {},
   "outputs": [],
   "source": [
    "tf_mu = xr.DataArray(tf_mu, coords=coords_forecast, dims=dims_forecast)\n",
    "tf_std =xr.DataArray(tf_std, coords=coords_forecast, dims=dims_forecast)\n",
    "#MBM_mu = xr.DataArray(MBM_mu, coords=coords_forecast, dims=dims_forecast)\n",
    "#MBM_std =xr.DataArray(MBM_std, coords=coords_forecast, dims=dims_forecast)"
   ]
  },
  {
   "cell_type": "code",
   "execution_count": 42,
   "id": "9f93aa52-2681-4863-bd89-9fdf492249d3",
   "metadata": {},
   "outputs": [],
   "source": [
    "np.save(\"TF_mu.npy\", tf_mu)\n",
    "np.save(\"TF_std.npy\",tf_std)"
   ]
  },
  {
   "cell_type": "code",
   "execution_count": 43,
   "id": "facff090-b5a5-450b-8309-cad97ce29b70",
   "metadata": {},
   "outputs": [],
   "source": [
    "Leadtimes=list(fcs_10.step.values)\n",
    "CRPS_OG=[]\n",
    "CRPS_TF=[]\n",
    "CRPS_MBM=[]\n",
    "for i in range(len(fcs_10.step)):\n",
    "    mu_OG=fcs_rearranged_10.isel(step=i).sel(variable='t2m').mean(dim='number')\n",
    "    sigma_OG=fcs_rearranged_10.isel(step=i).sel(variable='t2m').std(dim='number')\n",
    "    mu_postpro=tf_mu.isel(step=i)\n",
    "    sigma_postpro= tf_std.isel(step=i)\n",
    "    CRPS_P = crps_gaussian(obs.isel(step=i),mu_postpro,sigma_postpro).values\n",
    "    CRPS_O = crps_gaussian(obs.isel(step=i),mu_OG,sigma_OG).values\n",
    "    CRPS_OG.append(CRPS_O.item())\n",
    "    CRPS_TF.append(CRPS_P.item())\n",
    "    #mu_MBM=MBM_mu.isel(step=i)\n",
    "    #sigma_MBM= MBM_std.isel(step=i)\n",
    "    #CRPS_M = crps_gaussian(obs.isel(step=i),mu_MBM,sigma_MBM).values\n",
    "    #CRPS_MBM.append(CRPS_M.item()##)"
   ]
  },
  {
   "cell_type": "code",
   "execution_count": 46,
   "id": "3395d591-d8cd-42d9-a048-dbd3b1112288",
   "metadata": {},
   "outputs": [
    {
     "data": {
      "image/png": "[encoded data removed]",
      "text/plain": [
       "<Figure size 1000x500 with 1 Axes>"
      ]
     },
     "metadata": {},
     "output_type": "display_data"
    }
   ],
   "source": [
    "#CPRS WITH GAUSSIAN ASSUMPTION\n",
    "matplotlib.rcParams['text.usetex'] = False\n",
    "plt.figure(figsize=(10, 5))\n",
    "plt.plot(Leadtimes, CRPS_OG, color='red', marker='o', label='Original')\n",
    "plt.plot(Leadtimes, CRPS_TF, color='blue',linestyle=':', marker='d' ,label='Postprocessed,Transformer 8 pred')\n",
    "#plt.plot(Leadtimes, CRPS_MBM, color='black',linestyle=':', marker='*', label='Postprocessed, Classical MBM All pred')\n",
    "\n",
    "\n",
    "plt.axhline(y=np.mean(CRPS_OG), color='red',linestyle=':')\n",
    "plt.axhline(y=np.mean(CRPS_TF), color='blue',linestyle=':')\n",
    "#plt.axhline(y=np.mean(CRPS_MBM), color='black',linestyle=':')\n",
    "\n",
    "# Set title and labels\n",
    "plt.title('Ensemble CRPS per lead time (t2m)', fontsize=22)\n",
    "plt.xlabel('Forecast lead time [hours]', fontsize=18)\n",
    "plt.ylabel('CRPS [°C]', fontsize=18)\n",
    "\n",
    "# Set y-axis limits and x-axis ticks\n",
    "#plt.xlim(0,124)\n",
    "#plt.ylim(0.6,1.38)\n",
    "\n",
    "# Set tick label size and show legend\n",
    "plt.tick_params(axis='both', labelsize=12)\n",
    "plt.legend(fontsize=12)\n",
    "\n",
    "# Adjust layout and show the plot\n",
    "plt.tight_layout()\n",
    "#plt.savefig(\"CRPS_leadtime_all.png\")\n",
    "plt.show()"
   ]
  },
  {
   "cell_type": "code",
   "execution_count": null,
   "id": "b0e3344e-1524-49a1-98f8-d401b0f1b1a2",
   "metadata": {},
   "outputs": [],
   "source": []
  },
  {
   "cell_type": "code",
   "execution_count": null,
   "id": "66ead7ea-32b9-45ae-9218-4bf7f216a8fc",
   "metadata": {},
   "outputs": [],
   "source": []
  }
 ],
 "metadata": {
  "kernelspec": {
   "display_name": "Python 3 (ipykernel)",
   "language": "python",
   "name": "python3"
  },
  "language_info": {
   "codemirror_mode": {
    "name": "ipython",
    "version": 3
   },
   "file_extension": ".py",
   "mimetype": "text/x-python",
   "name": "python",
   "nbconvert_exporter": "python",
   "pygments_lexer": "ipython3",
   "version": "3.10.10"
  }
 },
 "nbformat": 4,
 "nbformat_minor": 5
}
